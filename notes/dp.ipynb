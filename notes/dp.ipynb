{
 "cells": [
  {
   "cell_type": "markdown",
   "metadata": {},
   "source": [
    "# Dynamic Programming Notes"
   ]
  },
  {
   "cell_type": "markdown",
   "metadata": {},
   "source": [
    "Dynamic programming is a concept of solving recurdsive problems. There are two possible approches: \"push\" (BFS-like aproach) and \"pull\" (DFS-like approach)."
   ]
  },
  {
   "cell_type": "code",
   "execution_count": 1,
   "metadata": {},
   "outputs": [],
   "source": [
    "import numpy as np"
   ]
  },
  {
   "cell_type": "markdown",
   "metadata": {},
   "source": [
    "### First example\n",
    "\n",
    "For a given $k, n\\in\\mathbb{N}$ let's try to compute ${n \\choose k}$. For that we will need to use the Pascal's triangle identity\n",
    "\n",
    "\\begin{align}\n",
    "{n \\choose k} = {n - 1 \\choose k - 1} + {n - 1 \\choose k}.\n",
    "\\tag{Pascal's triangle identity}\n",
    "\\end{align}\n",
    "\n",
    "To prove the above, we can see that on the left hand side we are choosing $k$ elements from the $n$-element set. So lets pick any element from our $n$-element set. If we want to include this element into our $k$-element subset, we need to choose another $k-1$ elements from remaining $n-1$ elements. If we do not want to inclide that element, we need to select $k$ elements from the remaining $n-1$ elements.\n",
    "\n",
    "Now, let $p(n, k) = {n \\choose k}$. We can write\n",
    "\n",
    "\\begin{equation*}\n",
    "\\begin{aligned}\n",
    "&p(n, 0) = 0, \\\\\n",
    "&p(n, k) = 0 &\\hbox{ for } n < k, \\\\\n",
    "&p(n, k) = p(n - 1, k - 1) + p(n - 1, k) &\\hbox{ for } n \\ge k > 0.\n",
    "\\end{aligned}\n",
    "\\end{equation*}\n",
    "\n",
    "From above formula it is clear, that it is possible to compute $p(n, k)$ for any $n, k\\in\\mathbb{N}$ using $O(n\\times k)$ memory and\n",
    "$O(n\\times k)$ time."
   ]
  },
  {
   "cell_type": "code",
   "execution_count": 2,
   "metadata": {},
   "outputs": [],
   "source": [
    "def n_choose_k(N: int, K: int) -> int:\n",
    "    p = np.zeros((N+1, K+1)).astype(int)\n",
    "    p[:, 0] = 1\n",
    "    for k in range(1, K + 1):\n",
    "        for n in range(k, N + 1):\n",
    "            p[n, k] = p[n-1, k-1] + p[n-1, k]\n",
    "    \n",
    "    return p[N, K]"
   ]
  },
  {
   "cell_type": "markdown",
   "metadata": {},
   "source": [
    "Let's write a benchmark method (for tests), which is the most efficient way to compute $n \\choose k$."
   ]
  },
  {
   "cell_type": "code",
   "execution_count": 18,
   "metadata": {},
   "outputs": [],
   "source": [
    "def n_choose_k_benchmark(N: int, K: int) -> int:\n",
    "    if K > N:\n",
    "        return 0\n",
    "    \n",
    "    result = 1\n",
    "    for i in range(1, K + 1):\n",
    "        if result % i == 0:\n",
    "            result = result // i\n",
    "            result = result * (N - i + 1) \n",
    "        else:\n",
    "            result = result * (N - i + 1) \n",
    "            result = result // i\n",
    "    \n",
    "    return result"
   ]
  },
  {
   "cell_type": "code",
   "execution_count": 19,
   "metadata": {},
   "outputs": [],
   "source": [
    "for N in range(60):\n",
    "    for K in range(N + 1):\n",
    "        assert n_choose_k(N, K) == n_choose_k_benchmark(N, K), f'error for {N=}, {K=}'"
   ]
  },
  {
   "cell_type": "markdown",
   "metadata": {},
   "source": [
    "We can see, that the funcion is working correctly, however, we are using a lot of memory. Let's try to optimize the memory usage. \n",
    "\n",
    "First observation is that the values in a given row of $p$ depend only on values from a previous row. Let's change our function a little bit to optimize the memory usage to be $O(n)$.\n",
    "\n",
    "Note: function after the proposed modification will need to perform more operation, but the time complexity will still be $O(n\\times k)$."
   ]
  },
  {
   "cell_type": "code",
   "execution_count": 5,
   "metadata": {},
   "outputs": [],
   "source": [
    "def n_choose_k_mem_opt(N: int, K: int) -> int:\n",
    "    p_prev = np.ones(N+1).astype(int)\n",
    "    p_next = np.zeros(N+1).astype(int)\n",
    "    for k in range(1, K + 1):\n",
    "        for n in range(N + 1):\n",
    "            if n < k:\n",
    "                p_next[n] = 0\n",
    "            else:\n",
    "                p_next[n] = p_prev[n-1] + p_next[n-1]\n",
    "        p_next, p_prev = p_prev, p_next\n",
    "    \n",
    "    return p_prev[N]\n"
   ]
  },
  {
   "cell_type": "code",
   "execution_count": 20,
   "metadata": {},
   "outputs": [],
   "source": [
    "for N in range(60):\n",
    "    for K in range(N + 1):\n",
    "        assert n_choose_k_mem_opt(N, K) == n_choose_k_benchmark(N, K), f'error for {N=}, {K=}'"
   ]
  },
  {
   "cell_type": "markdown",
   "metadata": {},
   "source": [
    "\n",
    "### More complex example\n",
    "\n",
    "Let's consider the first (trivial) example. For a given set of positive numbers $S = \\{s_1, s_2, \\ldots, s_m\\}$ and a given number $N$ we need to calculate the number of ways to write a given number $N$ as a sum of the numbers from $S$ (each number can be used multiple times). For example, \n",
    "for $S=\\{1, 2\\}$ and $N=3$ we have three ways:\n",
    "\n",
    "* $1 + 1 + 1$\n",
    "* $2 + 1$\n",
    "* $1 + 2$\n",
    "\n",
    "**Solution (pull).** Let $Q(k)$ be the set of all sequences of numbers from $S$, that sum to $k$. For any combination $p$, let $p^{\\prime}$ denote the combination obtained from $p$ by removing it's last element and let $p_i$ to be the $i$-th element of $p$. We can see, that $\\#Q(0) = 1$, as only empty sum equals zero. To compute the value of $\\#Q(k)$ we need to compute the values for $\\#Q(s)$ for each $s\\in S(k)$, where $S(k) = \\{x\\colon (\\exists s\\in S) (x + s = k)\\}$. Assuming we already computed them, we can express $\\# Q(k)$ as\n",
    "\n",
    "\\begin{align}\n",
    "\\#Q(k) = \\sum_{x\\in S(k)} \\# Q(x).\n",
    "\\tag{pull formula}\n",
    "\\end{align}\n",
    "\n",
    "In that way we are taking all the possible combinations of elements from $S$ that sum up to $k$. \n",
    "\n",
    "To see this, let $p$ be a sequence from $Q(k)$ of length $j$. We can see, that $p^{\\prime}$ sums up to $k-p_j$. Of course $k-p_j\\in S(k)$ and therefore $p^{\\prime}\\in Q(k-p_j)$. From that we conclude, that $p$ (as a unique extension of $p^{\\prime}$) is counted in the $\\# Q(x)$ term of the sum above (for $x = k-p_j$). Conversly, take any two combinations $p, q$ from $Q(k)$ of length $t, u$ (respectively). If $p^{\\prime} = q^{\\prime}$ then $p_t = q_u = q_t$, because\n",
    "\n",
    "$$\n",
    "\\sum_{i=1}^t p_i = q_t + \\sum_{i=1}^{t-1} p_i = q_t + \\sum_{j=1}^u q_j,\n",
    "$$\n",
    "\n",
    "so for each $x\\in S(k)$ each sequence $r\\in Q(x)$ is mapped to at most one sequence $\\overline{r}\\in Q(k)$.\n",
    "\n",
    "**Solution (push).** Let $P(k, l)$ will be a familly of sequences, where $0\\le k\\le N$ and $0\\le l\\le m$. The definition of $P(k, l)$ is as follows\n",
    "\\begin{equation}\n",
    "\\begin{aligned}\n",
    "& P(0, 0) = \\{\\emptyset\\} \\\\\n",
    "& P(0, k) = \\emptyset, \\hbox{ for } 1 \\le k \\le N \\\\\n",
    "& P(k, l) = P(k, l-1)\\cup \\{p*s_k(p)\\colon p\\in P(k-1, l-1) \\wedge s_k(p)\\in S\\},\n",
    "\\end{aligned}\n",
    "\\end{equation}\n",
    "where $s_k(p) = k - \\sum_i p_i$ and $*$ is a concatenation operator.\n",
    "\n",
    "**Exercise**: Prove, that $\\# Q(N) = \\#P(N, m)$."
   ]
  },
  {
   "cell_type": "markdown",
   "metadata": {},
   "source": [
    "### Implementation"
   ]
  },
  {
   "cell_type": "code",
   "execution_count": 7,
   "metadata": {},
   "outputs": [],
   "source": [
    "def n_sequences_pull(S: set[int], N: int) -> int:\n",
    "    Q = np.zeros(N + 1).astype(int)\n",
    "    Q[0] = 1\n",
    "    for k in range(1, N + 1):\n",
    "        Q[k] += sum(Q[k - s] for s in S if k - s >= 0)\n",
    "    \n",
    "    return Q[N]\n",
    "            "
   ]
  },
  {
   "cell_type": "code",
   "execution_count": 8,
   "metadata": {},
   "outputs": [],
   "source": [
    "def n_sequences_push(S: set[int], N: int) -> int:\n",
    "    P = np.zeros(N + 1).astype(int)\n",
    "    P[0] = 1\n",
    "    for k in range(N+1):\n",
    "        for s in S:\n",
    "            if k + s <= N:\n",
    "                P[k + s] += P[k]\n",
    "\n",
    "    return P[N]"
   ]
  },
  {
   "cell_type": "code",
   "execution_count": 9,
   "metadata": {},
   "outputs": [
    {
     "data": {
      "text/plain": [
       "8"
      ]
     },
     "execution_count": 9,
     "metadata": {},
     "output_type": "execute_result"
    }
   ],
   "source": [
    "n_sequences_pull(S=set(range(1, 100)), N=4)"
   ]
  },
  {
   "cell_type": "code",
   "execution_count": 10,
   "metadata": {},
   "outputs": [
    {
     "data": {
      "text/plain": [
       "8"
      ]
     },
     "execution_count": 10,
     "metadata": {},
     "output_type": "execute_result"
    }
   ],
   "source": [
    "n_sequences_push(S=set(range(1, 100)), N=4)"
   ]
  }
 ],
 "metadata": {
  "kernelspec": {
   "display_name": ".venv",
   "language": "python",
   "name": "python3"
  },
  "language_info": {
   "codemirror_mode": {
    "name": "ipython",
    "version": 3
   },
   "file_extension": ".py",
   "mimetype": "text/x-python",
   "name": "python",
   "nbconvert_exporter": "python",
   "pygments_lexer": "ipython3",
   "version": "3.11.9"
  }
 },
 "nbformat": 4,
 "nbformat_minor": 2
}
