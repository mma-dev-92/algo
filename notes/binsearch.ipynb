{
 "cells": [
  {
   "cell_type": "markdown",
   "metadata": {},
   "source": [
    "# Binary Search Basics"
   ]
  },
  {
   "cell_type": "code",
   "execution_count": 25,
   "metadata": {},
   "outputs": [],
   "source": [
    "def simple_bin_search(arr: list[int], target: int) -> int:\n",
    "    \"\"\"\n",
    "    Simple binary search implementation\n",
    "\n",
    "    This function just goes through a sorted array of numbers to find a given target. \n",
    "    If it will succed, index of that value will be returned, if not, -1.\n",
    "    \"\"\"\n",
    "\n",
    "    n = len(arr)\n",
    "    left, right = 0, n - 1\n",
    "    middle = (left + right) // 2\n",
    "    while left <= right:\n",
    "        if target == arr[middle]:\n",
    "            return middle\n",
    "        elif target < arr[middle]:\n",
    "            right = middle - 1\n",
    "        else:\n",
    "            left = middle + 1\n",
    "        \n",
    "        middle = (left + right) // 2\n",
    "    \n",
    "    return -1"
   ]
  },
  {
   "cell_type": "code",
   "execution_count": null,
   "metadata": {},
   "outputs": [],
   "source": [
    "import numpy as np"
   ]
  },
  {
   "cell_type": "code",
   "execution_count": 57,
   "metadata": {},
   "outputs": [
    {
     "data": {
      "text/plain": [
       "[0, 1, 2, 3, 5, 6, 8, 9]"
      ]
     },
     "execution_count": 57,
     "metadata": {},
     "output_type": "execute_result"
    }
   ],
   "source": [
    "arr = list(np.sort(np.random.choice(10, size=8, replace=False)))\n",
    "arr"
   ]
  },
  {
   "cell_type": "code",
   "execution_count": 58,
   "metadata": {},
   "outputs": [
    {
     "data": {
      "text/plain": [
       "3"
      ]
     },
     "execution_count": 58,
     "metadata": {},
     "output_type": "execute_result"
    }
   ],
   "source": [
    "simple_bin_search(arr, 3)"
   ]
  },
  {
   "cell_type": "markdown",
   "metadata": {},
   "source": [
    "# Generalized Binary Search\n",
    "\n",
    "Binary search algorithm is a very simple idea. It can be formalized in the following way.\n",
    "\n",
    "Assume, that an array $A$ of length $n$ is given, and that each element $A[i]$ has type $T$. Assume also, that there is a function $f\\colon I\\to \\hbox{Boolean}$, where $I$ is the set of indices of array $A$. For simplicity instead of writing $f(i)$ I will write simply $f_i$.\n",
    "\n",
    "If $A$ and $f$ satisfy the following conditions:\n",
    "\n",
    "$$\\forall 0 \\le i < j < n \\ \\ \\ \\ \\ f_i = True \\implies f_j  = True,$$\n",
    "\n",
    "then we can (obviously) find $0\\le i_0 < n$, such that $f_{i_0} = True$ and $f_j = False$ for each $0 \\le j < i$. What is more important, we can do it in $O(\\log n)$ time complexity."
   ]
  },
  {
   "cell_type": "code",
   "execution_count": 59,
   "metadata": {},
   "outputs": [],
   "source": [
    "def generalized_bin_search(arr: list, f) -> int:\n",
    "    \"\"\"\n",
    "    Generalizeb binary search implementation\n",
    "\n",
    "    For a given function we will find the first index i, for which f(arr[i]) == True, \n",
    "    of course assuming that the conditions described above are satisfied.\n",
    "    \"\"\"\n",
    "\n",
    "    n = len(arr)\n",
    "    left, right = 0, n - 1\n",
    "    middle = (left + right) // 2\n",
    "\n",
    "    while left < right:\n",
    "        if not f(middle):\n",
    "            left = middle + 1\n",
    "        else:\n",
    "            right = middle\n",
    "        middle = (left + right) // 2\n",
    "    return middle"
   ]
  },
  {
   "cell_type": "markdown",
   "metadata": {},
   "source": [
    "#### Let's compare our generalized function with the simple one\n",
    "\n",
    "We can test, that for $f(i)$ beeing $True$ for $arr[i] \\ge target$ and $False$ otherwise, we will get the desired results, however we must be carful, we need to tweek it a little bit."
   ]
  },
  {
   "cell_type": "code",
   "execution_count": 60,
   "metadata": {},
   "outputs": [],
   "source": [
    "def find_in_sorted_array(arr: list, target: int) -> int:\n",
    "    result_idx = generalized_bin_search(arr, f=lambda i: arr[i] >= target)\n",
    "    return result_idx if arr[result_idx] == target else -1"
   ]
  },
  {
   "cell_type": "code",
   "execution_count": 61,
   "metadata": {},
   "outputs": [],
   "source": [
    "for target in range(10):\n",
    "\n",
    "    generalized_result = find_in_sorted_array(arr, target)\n",
    "    simple_result = simple_bin_search(arr, target)\n",
    "    assert generalized_result == simple_result, f'for target {target}, results are different, simple version gives {simple_result}, generalized {generalized_result}'"
   ]
  },
  {
   "cell_type": "markdown",
   "metadata": {},
   "source": [
    "**Excercise**: What will happen if array $arr$ will contain repetitions? Why the above assertion will fail? Does it mean, that the more general version is not correct?"
   ]
  },
  {
   "cell_type": "markdown",
   "metadata": {},
   "source": [
    "## Let's solve more difficult problem using a binary search algorithm"
   ]
  },
  {
   "cell_type": "markdown",
   "metadata": {},
   "source": [
    "Let's assume that we are given an array $arr$, such that $arr[0] < arr[1] < arr[2] < \\ldots arr[i - 1] < arr[i] > arr[i + 1] > arr[i + 2] > \\ldots > arr[n - 1]$. I will show, how we can use the idea of binary search to find the maximum of that array (the index $i$).\n",
    "\n",
    "Indeed, we just need to define function $f(i)$ to be $True$ if $a[i] > a[i+1]$ and $False$ otherwise!\n"
   ]
  },
  {
   "cell_type": "code",
   "execution_count": 68,
   "metadata": {},
   "outputs": [],
   "source": [
    "def find_maximum_of_convex_array(arr: list[int]) -> int:\n",
    "    return generalized_bin_search(arr, lambda i: arr[i] > arr[i + 1])"
   ]
  },
  {
   "cell_type": "markdown",
   "metadata": {},
   "source": [
    "#### Let's test our solution"
   ]
  },
  {
   "cell_type": "code",
   "execution_count": 69,
   "metadata": {},
   "outputs": [
    {
     "data": {
      "text/plain": [
       "[13, 21, 27, 36, 42, 45, 49, 100, 49, 36, 28, 16, 5, 1, 0]"
      ]
     },
     "execution_count": 69,
     "metadata": {},
     "output_type": "execute_result"
    }
   ],
   "source": [
    "convex_array = list(np.concatenate((np.sort(np.random.choice(50, size=7, replace=False)), [100], np.sort(np.random.choice(50, size=7, replace=False))[::-1])))\n",
    "convex_array"
   ]
  },
  {
   "cell_type": "code",
   "execution_count": 70,
   "metadata": {},
   "outputs": [
    {
     "data": {
      "text/plain": [
       "7"
      ]
     },
     "execution_count": 70,
     "metadata": {},
     "output_type": "execute_result"
    }
   ],
   "source": [
    "find_maximum_of_convex_array(convex_array)"
   ]
  }
 ],
 "metadata": {
  "kernelspec": {
   "display_name": ".venv",
   "language": "python",
   "name": "python3"
  },
  "language_info": {
   "codemirror_mode": {
    "name": "ipython",
    "version": 3
   },
   "file_extension": ".py",
   "mimetype": "text/x-python",
   "name": "python",
   "nbconvert_exporter": "python",
   "pygments_lexer": "ipython3",
   "version": "3.11.9"
  }
 },
 "nbformat": 4,
 "nbformat_minor": 2
}
